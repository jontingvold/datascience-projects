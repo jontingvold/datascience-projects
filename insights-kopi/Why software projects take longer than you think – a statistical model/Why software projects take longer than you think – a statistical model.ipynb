{
 "cells": [
  {
   "cell_type": "markdown",
   "metadata": {},
   "source": [
    "# Why software projects take longer than you think – a statistical model\n",
    "\n",
    "https://erikbern.com/2019/04/15/why-software-projects-take-longer-than-you-think-a-statistical-model.html"
   ]
  },
  {
   "cell_type": "code",
   "execution_count": 107,
   "metadata": {},
   "outputs": [],
   "source": [
    "import scipy.stats as stats\n",
    "import numpy as np\n",
    "import pandas as pd\n",
    "import matplotlib.pyplot as plt\n",
    "%config InlineBackend.figure_format = 'retina'\n",
    "from IPython.display import HTML, Image, Video"
   ]
  },
  {
   "cell_type": "code",
   "execution_count": 58,
   "metadata": {},
   "outputs": [
    {
     "data": {
      "text/html": [
       "<div>\n",
       "<style scoped>\n",
       "    .dataframe tbody tr th:only-of-type {\n",
       "        vertical-align: middle;\n",
       "    }\n",
       "\n",
       "    .dataframe tbody tr th {\n",
       "        vertical-align: top;\n",
       "    }\n",
       "\n",
       "    .dataframe thead th {\n",
       "        text-align: right;\n",
       "    }\n",
       "</style>\n",
       "<table border=\"1\" class=\"dataframe\">\n",
       "  <thead>\n",
       "    <tr style=\"text-align: right;\">\n",
       "      <th></th>\n",
       "      <th>TaskNumber</th>\n",
       "      <th>Summary</th>\n",
       "      <th>Priority</th>\n",
       "      <th>RaisedByID</th>\n",
       "      <th>AssignedToID</th>\n",
       "      <th>AuthorisedByID</th>\n",
       "      <th>StatusCode</th>\n",
       "      <th>ProjectCode</th>\n",
       "      <th>ProjectBreakdownCode</th>\n",
       "      <th>Category</th>\n",
       "      <th>SubCategory</th>\n",
       "      <th>HoursEstimate</th>\n",
       "      <th>HoursActual</th>\n",
       "      <th>DeveloperID</th>\n",
       "      <th>DeveloperHoursActual</th>\n",
       "      <th>TaskPerformance</th>\n",
       "      <th>DeveloperPerformance</th>\n",
       "    </tr>\n",
       "  </thead>\n",
       "  <tbody>\n",
       "    <tr>\n",
       "      <th>0</th>\n",
       "      <td>1735</td>\n",
       "      <td>Flag RI on SCM Message Summary screen using me...</td>\n",
       "      <td>1</td>\n",
       "      <td>58</td>\n",
       "      <td>58</td>\n",
       "      <td>6.0</td>\n",
       "      <td>FINISHED</td>\n",
       "      <td>PC2</td>\n",
       "      <td>PBC42</td>\n",
       "      <td>Development</td>\n",
       "      <td>Enhancement</td>\n",
       "      <td>14.0</td>\n",
       "      <td>1.75</td>\n",
       "      <td>58</td>\n",
       "      <td>1.75</td>\n",
       "      <td>12.25</td>\n",
       "      <td>12.25</td>\n",
       "    </tr>\n",
       "    <tr>\n",
       "      <th>1</th>\n",
       "      <td>1742</td>\n",
       "      <td>Allow RI Policies to be marked as Exhausted</td>\n",
       "      <td>1</td>\n",
       "      <td>58</td>\n",
       "      <td>42</td>\n",
       "      <td>6.0</td>\n",
       "      <td>FINISHED</td>\n",
       "      <td>PC2</td>\n",
       "      <td>PBC21</td>\n",
       "      <td>Development</td>\n",
       "      <td>Enhancement</td>\n",
       "      <td>7.0</td>\n",
       "      <td>7.00</td>\n",
       "      <td>42</td>\n",
       "      <td>7.00</td>\n",
       "      <td>0.00</td>\n",
       "      <td>0.00</td>\n",
       "    </tr>\n",
       "    <tr>\n",
       "      <th>2</th>\n",
       "      <td>1971</td>\n",
       "      <td>Fix Invalid UWREF Line DX402L99A1N</td>\n",
       "      <td>2</td>\n",
       "      <td>7</td>\n",
       "      <td>58</td>\n",
       "      <td>6.0</td>\n",
       "      <td>FINISHED</td>\n",
       "      <td>PC2</td>\n",
       "      <td>PBC75</td>\n",
       "      <td>Operational</td>\n",
       "      <td>In House Support</td>\n",
       "      <td>0.7</td>\n",
       "      <td>0.70</td>\n",
       "      <td>58</td>\n",
       "      <td>0.70</td>\n",
       "      <td>0.00</td>\n",
       "      <td>0.00</td>\n",
       "    </tr>\n",
       "    <tr>\n",
       "      <th>3</th>\n",
       "      <td>2134</td>\n",
       "      <td>New rows in the diary event for the SCM are re...</td>\n",
       "      <td>5</td>\n",
       "      <td>50</td>\n",
       "      <td>42</td>\n",
       "      <td>6.0</td>\n",
       "      <td>FINISHED</td>\n",
       "      <td>PC2</td>\n",
       "      <td>PBC42</td>\n",
       "      <td>Development</td>\n",
       "      <td>Bug</td>\n",
       "      <td>0.7</td>\n",
       "      <td>0.70</td>\n",
       "      <td>42</td>\n",
       "      <td>0.70</td>\n",
       "      <td>0.00</td>\n",
       "      <td>0.00</td>\n",
       "    </tr>\n",
       "    <tr>\n",
       "      <th>4</th>\n",
       "      <td>2251</td>\n",
       "      <td>Application Screen Size - Need to set Min Size...</td>\n",
       "      <td>10</td>\n",
       "      <td>46</td>\n",
       "      <td>13</td>\n",
       "      <td>6.0</td>\n",
       "      <td>FINISHED</td>\n",
       "      <td>PC2</td>\n",
       "      <td>PBC21</td>\n",
       "      <td>Development</td>\n",
       "      <td>Bug</td>\n",
       "      <td>3.5</td>\n",
       "      <td>3.50</td>\n",
       "      <td>13</td>\n",
       "      <td>3.50</td>\n",
       "      <td>0.00</td>\n",
       "      <td>0.00</td>\n",
       "    </tr>\n",
       "  </tbody>\n",
       "</table>\n",
       "</div>"
      ],
      "text/plain": [
       "   TaskNumber                                            Summary  Priority  \\\n",
       "0        1735  Flag RI on SCM Message Summary screen using me...         1   \n",
       "1        1742        Allow RI Policies to be marked as Exhausted         1   \n",
       "2        1971                 Fix Invalid UWREF Line DX402L99A1N         2   \n",
       "3        2134  New rows in the diary event for the SCM are re...         5   \n",
       "4        2251  Application Screen Size - Need to set Min Size...        10   \n",
       "\n",
       "   RaisedByID  AssignedToID  AuthorisedByID StatusCode ProjectCode  \\\n",
       "0          58            58             6.0   FINISHED         PC2   \n",
       "1          58            42             6.0   FINISHED         PC2   \n",
       "2           7            58             6.0   FINISHED         PC2   \n",
       "3          50            42             6.0   FINISHED         PC2   \n",
       "4          46            13             6.0   FINISHED         PC2   \n",
       "\n",
       "  ProjectBreakdownCode     Category       SubCategory  HoursEstimate  \\\n",
       "0                PBC42  Development       Enhancement           14.0   \n",
       "1                PBC21  Development       Enhancement            7.0   \n",
       "2                PBC75  Operational  In House Support            0.7   \n",
       "3                PBC42  Development               Bug            0.7   \n",
       "4                PBC21  Development               Bug            3.5   \n",
       "\n",
       "   HoursActual  DeveloperID  DeveloperHoursActual  TaskPerformance  \\\n",
       "0         1.75           58                  1.75            12.25   \n",
       "1         7.00           42                  7.00             0.00   \n",
       "2         0.70           58                  0.70             0.00   \n",
       "3         0.70           42                  0.70             0.00   \n",
       "4         3.50           13                  3.50             0.00   \n",
       "\n",
       "   DeveloperPerformance  \n",
       "0                 12.25  \n",
       "1                  0.00  \n",
       "2                  0.00  \n",
       "3                  0.00  \n",
       "4                  0.00  "
      ]
     },
     "execution_count": 58,
     "metadata": {},
     "output_type": "execute_result"
    }
   ],
   "source": [
    "ds = pd.read_csv(\"data.csv\")\n",
    "ds.head()"
   ]
  },
  {
   "cell_type": "code",
   "execution_count": 115,
   "metadata": {},
   "outputs": [
    {
     "name": "stdout",
     "output_type": "stream",
     "text": [
      "1.804101062130962 6.5382443864599615 29.289962373392484 1091.1800353010233\n"
     ]
    },
    {
     "data": {
      "image/png": "[encoded data removed]",
      "text/plain": [
       "<Figure size 432x288 with 1 Axes>"
      ]
     },
     "metadata": {
      "image/png": {
       "height": 248,
       "width": 388
      }
     },
     "output_type": "display_data"
    }
   ],
   "source": [
    "actual_estimated_ratio = ds.HoursActual / ds.HoursEstimate\n",
    "actual_estimated_ratio.hist(bins=100)\n",
    "\n",
    "median = np.median(actual_estimated_ratio)\n",
    "mean = np.mean(actual_estimated_ratio)\n",
    "std = np.std(actual_estimated_ratio)\n",
    "skew = stats.skew(actual_estimated_ratio)\n",
    "kurtosis = stats.kurtosis(actual_estimated_ratio)\n",
    "print(mean, std, skew, kurtosis)"
   ]
  },
  {
   "cell_type": "code",
   "execution_count": 109,
   "metadata": {},
   "outputs": [
    {
     "data": {
      "text/html": [
       "The average project takes <strong>1.80</strong> many times more than estimated"
      ],
      "text/plain": [
       "<IPython.core.display.HTML object>"
      ]
     },
     "execution_count": 109,
     "metadata": {},
     "output_type": "execute_result"
    }
   ],
   "source": [
    "HTML(\"The average programming task takes <strong>%.02f</strong> many times more than estimated\" % mean)"
   ]
  },
  {
   "cell_type": "code",
   "execution_count": 110,
   "metadata": {},
   "outputs": [
    {
     "data": {
      "text/html": [
       "With a standard deviation of <strong>6.54</strong>"
      ],
      "text/plain": [
       "<IPython.core.display.HTML object>"
      ]
     },
     "execution_count": 110,
     "metadata": {},
     "output_type": "execute_result"
    }
   ],
   "source": [
    "HTML(\"With a standard deviation of <strong>%.02f</strong>\" % std)"
   ]
  },
  {
   "cell_type": "code",
   "execution_count": 116,
   "metadata": {},
   "outputs": [
    {
     "data": {
      "text/html": [
       "... while the median programming task takes <strong>1.00</strong> many times more than estimated"
      ],
      "text/plain": [
       "<IPython.core.display.HTML object>"
      ]
     },
     "execution_count": 116,
     "metadata": {},
     "output_type": "execute_result"
    }
   ],
   "source": [
    "HTML(\"... while the median programming task takes <strong>%.02f</strong> many times more than estimated\" % median)"
   ]
  },
  {
   "cell_type": "code",
   "execution_count": 112,
   "metadata": {},
   "outputs": [
    {
     "name": "stdout",
     "output_type": "stream",
     "text": [
      "-0.04531237183471741 0.9463240838220316 0.3810096333705924 4.02380683349614\n"
     ]
    },
    {
     "data": {
      "image/png": "[encoded data removed]",
      "text/plain": [
       "<Figure size 432x288 with 1 Axes>"
      ]
     },
     "metadata": {
      "image/png": {
       "height": 248,
       "width": 381
      }
     },
     "output_type": "display_data"
    }
   ],
   "source": [
    "estimated_actual_ratio = np.log(ds.HoursEstimate / ds.HoursActual)\n",
    "estimated_actual_ratio.hist(bins=50)\n",
    "\n",
    "mean = np.mean(estimated_actual_ratio)\n",
    "std = np.std(estimated_actual_ratio)\n",
    "skew = stats.skew(estimated_actual_ratio)\n",
    "kurtosis = stats.kurtosis(estimated_actual_ratio)\n",
    "print(mean, std, skew, kurtosis)"
   ]
  },
  {
   "cell_type": "code",
   "execution_count": 113,
   "metadata": {},
   "outputs": [
    {
     "data": {
      "text/html": [
       "Of log values standard deviation is <strong>0.95</strong>"
      ],
      "text/plain": [
       "<IPython.core.display.HTML object>"
      ]
     },
     "execution_count": 113,
     "metadata": {},
     "output_type": "execute_result"
    }
   ],
   "source": [
    "HTML(\"Of log values standard deviation is <strong>%.02f</strong>\" % std)"
   ]
  },
  {
   "cell_type": "code",
   "execution_count": 55,
   "metadata": {},
   "outputs": [
    {
     "data": {
      "text/plain": [
       "<matplotlib.axes._subplots.AxesSubplot at 0x121fc7278>"
      ]
     },
     "execution_count": 55,
     "metadata": {},
     "output_type": "execute_result"
    },
    {
     "data": {
      "image/png": "[encoded data removed]",
      "text/plain": [
       "<Figure size 432x288 with 1 Axes>"
      ]
     },
     "metadata": {
      "image/png": {
       "height": 248,
       "width": 381
      }
     },
     "output_type": "display_data"
    }
   ],
   "source": [
    "dd = pd.Series(np.random.lognormal(mean, std, size=100000))\n",
    "numpy.random.lognormal"
   ]
  },
  {
   "cell_type": "code",
   "execution_count": 64,
   "metadata": {},
   "outputs": [
    {
     "data": {
      "text/plain": [
       "[<matplotlib.lines.Line2D at 0x11f4c7b00>]"
      ]
     },
     "execution_count": 64,
     "metadata": {},
     "output_type": "execute_result"
    },
    {
     "data": {
      "image/png": "[encoded data removed]",
      "text/plain": [
       "<Figure size 432x288 with 1 Axes>"
      ]
     },
     "metadata": {
      "image/png": {
       "height": 248,
       "width": 372
      }
     },
     "output_type": "display_data"
    }
   ],
   "source": [
    "fig, ax = plt.subplots(1, 1)\n",
    "x = np.linspace(stats.lognorm.ppf(0.01, std),\n",
    "        stats.lognorm.ppf(0.99, std), 100)\n",
    "ax.plot(x, stats.lognorm.pdf(x, std),\n",
    "        'r-', lw=5, alpha=0.6, label='lognorm pdf')"
   ]
  },
  {
   "cell_type": "code",
   "execution_count": 90,
   "metadata": {},
   "outputs": [
    {
     "name": "stdout",
     "output_type": "stream",
     "text": [
      "0.9994180825958505 1.6473471765878576\n"
     ]
    }
   ],
   "source": [
    "s = np.random.lognormal(0, 1, 100000)\n",
    "print(np.median(s), np.mean(s))"
   ]
  },
  {
   "cell_type": "code",
   "execution_count": 75,
   "metadata": {},
   "outputs": [],
   "source": []
  },
  {
   "cell_type": "code",
   "execution_count": null,
   "metadata": {},
   "outputs": [],
   "source": []
  }
 ],
 "metadata": {
  "kernelspec": {
   "display_name": "Python 3",
   "language": "python",
   "name": "python3"
  },
  "language_info": {
   "codemirror_mode": {
    "name": "ipython",
    "version": 3
   },
   "file_extension": ".py",
   "mimetype": "text/x-python",
   "name": "python",
   "nbconvert_exporter": "python",
   "pygments_lexer": "ipython3",
   "version": "3.6.5"
  }
 },
 "nbformat": 4,
 "nbformat_minor": 2
}
