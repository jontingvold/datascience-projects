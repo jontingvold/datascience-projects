{
 "cells": [
  {
   "cell_type": "markdown",
   "metadata": {},
   "source": [
    "New statefull model with arbitraty prediction length.\n",
    "\n",
    "Does not work."
   ]
  },
  {
   "cell_type": "markdown",
   "metadata": {},
   "source": [
    "### Setup code"
   ]
  },
  {
   "cell_type": "code",
   "execution_count": 1,
   "metadata": {},
   "outputs": [],
   "source": [
    "import tensorflow as tf\n",
    "\n",
    "import matplotlib as mpl\n",
    "import matplotlib.pyplot as plt\n",
    "import numpy as np\n",
    "import os\n",
    "import pandas as pd\n",
    "\n",
    "tf.__version__\n",
    "\n",
    "# Matplotlib style sheet\n",
    "%config InlineBackend.figure_format = 'retina'\n",
    "plt.style.use('seaborn-pastel')\n",
    "plt.style.use('jont')\n",
    "%config InlineBackend.figure_format = 'retina'"
   ]
  },
  {
   "cell_type": "code",
   "execution_count": 2,
   "metadata": {},
   "outputs": [],
   "source": [
    "tf.random.set_seed(13)"
   ]
  },
  {
   "cell_type": "code",
   "execution_count": 3,
   "metadata": {},
   "outputs": [],
   "source": [
    "# Tensorflow time series preprocessing functions\n",
    "\n",
    "def multivariate_data(x, y, sequence_length, start_index=0, end_index=None, step=1):\n",
    "    \n",
    "    start_index = start_index + sequence_length\n",
    "    if end_index is None:\n",
    "        end_index = len(x) - sequence_length\n",
    "\n",
    "    number_of_sequences = int((end_index - start_index)/step)\n",
    "    number_of_features = len(x[0])\n",
    "\n",
    "    new_x = np.zeros(shape=[number_of_sequences, sequence_length, number_of_features])\n",
    "    new_y = np.zeros(shape=[number_of_sequences, sequence_length])\n",
    "\n",
    "    for i in range(number_of_sequences):\n",
    "        i_dataset = start_index + i*sequence_length\n",
    "        \n",
    "        slice_d = slice(i_dataset-sequence_length, i_dataset)\n",
    "        if x[slice_d].shape == new_x[i].shape:\n",
    "            new_x[i] = x[slice_d]\n",
    "        if y[slice_d].shape == new_y[i].shape:\n",
    "            new_y[i] = y[slice_d]\n",
    "\n",
    "    return new_x, new_y"
   ]
  },
  {
   "cell_type": "code",
   "execution_count": 4,
   "metadata": {},
   "outputs": [],
   "source": [
    "# Get estimated values from model\n",
    "\n",
    "def predict(model, x_test, y_test, SEQUENCE_LENGTH, INPUT_d):\n",
    "    model.reset_states()\n",
    "    y_test_hat = y_test.copy()\n",
    "\n",
    "    n_windows = int(len(x_test)/SEQUENCE_LENGTH)\n",
    "    for i in range(n_windows):\n",
    "        x_test_sequence = x_test.iloc[i*SEQUENCE_LENGTH:(i+1)*SEQUENCE_LENGTH]\n",
    "        x_test_sequence = x_test_sequence.values.reshape([1, SEQUENCE_LENGTH, INPUT_d])\n",
    "        y_test_hat_sequence = model.predict(x_test_sequence).flatten()\n",
    "\n",
    "        y_test_hat[i*SEQUENCE_LENGTH:(i+1)*SEQUENCE_LENGTH] = y_test_hat_sequence\n",
    "    return y_test_hat"
   ]
  },
  {
   "cell_type": "code",
   "execution_count": 5,
   "metadata": {},
   "outputs": [],
   "source": [
    "def plot_train_history(history, title):\n",
    "    loss = history.history['loss']\n",
    "    val_loss = history.history['val_loss']\n",
    "\n",
    "    epochs = range(len(loss))\n",
    "\n",
    "    plt.figure()\n",
    "\n",
    "    plt.plot(epochs, loss, label='Training loss')\n",
    "    plt.plot(epochs, val_loss, label='Validation loss')\n",
    "    plt.title(title)\n",
    "    plt.legend()\n",
    "\n",
    "    plt.show()"
   ]
  },
  {
   "cell_type": "code",
   "execution_count": 6,
   "metadata": {},
   "outputs": [],
   "source": [
    "weekDays = (\"Monday\",\"Tuesday\",\"Wednesday\",\"Thursday\",\"Friday\",\"Saturday\",\"Sunday\")\n",
    "months = (\"January\", \"Febuary\", \"March\", \"April\", \"May\", \"June\", \"July\", \"August\", \"September\", \"October\", \"November\", \"December\")"
   ]
  },
  {
   "cell_type": "markdown",
   "metadata": {},
   "source": [
    "### Load dataset and preprocess it"
   ]
  },
  {
   "cell_type": "code",
   "execution_count": 7,
   "metadata": {},
   "outputs": [
    {
     "data": {
      "text/html": [
       "<div>\n",
       "<style scoped>\n",
       "    .dataframe tbody tr th:only-of-type {\n",
       "        vertical-align: middle;\n",
       "    }\n",
       "\n",
       "    .dataframe tbody tr th {\n",
       "        vertical-align: top;\n",
       "    }\n",
       "\n",
       "    .dataframe thead th {\n",
       "        text-align: right;\n",
       "    }\n",
       "</style>\n",
       "<table border=\"1\" class=\"dataframe\">\n",
       "  <thead>\n",
       "    <tr style=\"text-align: right;\">\n",
       "      <th></th>\n",
       "      <th>load_mw</th>\n",
       "      <th>temp_c</th>\n",
       "    </tr>\n",
       "    <tr>\n",
       "      <th>datetime</th>\n",
       "      <th></th>\n",
       "      <th></th>\n",
       "    </tr>\n",
       "  </thead>\n",
       "  <tbody>\n",
       "    <tr>\n",
       "      <td>2010-01-01 00:00:00</td>\n",
       "      <td>17898.0</td>\n",
       "      <td>-9.958</td>\n",
       "    </tr>\n",
       "    <tr>\n",
       "      <td>2010-01-01 01:00:00</td>\n",
       "      <td>17671.0</td>\n",
       "      <td>-9.953</td>\n",
       "    </tr>\n",
       "    <tr>\n",
       "      <td>2010-01-01 02:00:00</td>\n",
       "      <td>17500.0</td>\n",
       "      <td>-10.098</td>\n",
       "    </tr>\n",
       "    <tr>\n",
       "      <td>2010-01-01 03:00:00</td>\n",
       "      <td>17362.0</td>\n",
       "      <td>-10.344</td>\n",
       "    </tr>\n",
       "    <tr>\n",
       "      <td>2010-01-01 04:00:00</td>\n",
       "      <td>17470.0</td>\n",
       "      <td>-10.586</td>\n",
       "    </tr>\n",
       "  </tbody>\n",
       "</table>\n",
       "</div>"
      ],
      "text/plain": [
       "                     load_mw  temp_c\n",
       "datetime                            \n",
       "2010-01-01 00:00:00  17898.0  -9.958\n",
       "2010-01-01 01:00:00  17671.0  -9.953\n",
       "2010-01-01 02:00:00  17500.0 -10.098\n",
       "2010-01-01 03:00:00  17362.0 -10.344\n",
       "2010-01-01 04:00:00  17470.0 -10.586"
      ]
     },
     "metadata": {},
     "output_type": "display_data"
    },
    {
     "name": "stdout",
     "output_type": "stream",
     "text": [
      "61360\n"
     ]
    }
   ],
   "source": [
    "# Load dataset\n",
    "\n",
    "filename = \"NO_load_actual_entsoe_power_statistics.csv\"\n",
    "df = pd.read_csv(filename)\n",
    "df.index = pd.to_datetime(df.datetime)\n",
    "df = df.drop(columns=[\"datetime\"])\n",
    "\n",
    "display(df.head())\n",
    "\n",
    "print(len(df))"
   ]
  },
  {
   "cell_type": "code",
   "execution_count": 8,
   "metadata": {},
   "outputs": [
    {
     "name": "stdout",
     "output_type": "stream",
     "text": [
      "Mean: 14625.57, St.d: 3277.15\n"
     ]
    },
    {
     "data": {
      "text/html": [
       "<div>\n",
       "<style scoped>\n",
       "    .dataframe tbody tr th:only-of-type {\n",
       "        vertical-align: middle;\n",
       "    }\n",
       "\n",
       "    .dataframe tbody tr th {\n",
       "        vertical-align: top;\n",
       "    }\n",
       "\n",
       "    .dataframe thead th {\n",
       "        text-align: right;\n",
       "    }\n",
       "</style>\n",
       "<table border=\"1\" class=\"dataframe\">\n",
       "  <thead>\n",
       "    <tr style=\"text-align: right;\">\n",
       "      <th></th>\n",
       "      <th>load_mw</th>\n",
       "      <th>temp_c</th>\n",
       "    </tr>\n",
       "    <tr>\n",
       "      <th>datetime</th>\n",
       "      <th></th>\n",
       "      <th></th>\n",
       "    </tr>\n",
       "  </thead>\n",
       "  <tbody>\n",
       "    <tr>\n",
       "      <td>2010-01-01 00:00:00</td>\n",
       "      <td>0.998559</td>\n",
       "      <td>-1.825203</td>\n",
       "    </tr>\n",
       "    <tr>\n",
       "      <td>2010-01-01 01:00:00</td>\n",
       "      <td>0.929292</td>\n",
       "      <td>-1.824565</td>\n",
       "    </tr>\n",
       "    <tr>\n",
       "      <td>2010-01-01 02:00:00</td>\n",
       "      <td>0.877112</td>\n",
       "      <td>-1.843068</td>\n",
       "    </tr>\n",
       "    <tr>\n",
       "      <td>2010-01-01 03:00:00</td>\n",
       "      <td>0.835002</td>\n",
       "      <td>-1.874458</td>\n",
       "    </tr>\n",
       "    <tr>\n",
       "      <td>2010-01-01 04:00:00</td>\n",
       "      <td>0.867958</td>\n",
       "      <td>-1.905338</td>\n",
       "    </tr>\n",
       "  </tbody>\n",
       "</table>\n",
       "</div>"
      ],
      "text/plain": [
       "                      load_mw    temp_c\n",
       "datetime                               \n",
       "2010-01-01 00:00:00  0.998559 -1.825203\n",
       "2010-01-01 01:00:00  0.929292 -1.824565\n",
       "2010-01-01 02:00:00  0.877112 -1.843068\n",
       "2010-01-01 03:00:00  0.835002 -1.874458\n",
       "2010-01-01 04:00:00  0.867958 -1.905338"
      ]
     },
     "execution_count": 8,
     "metadata": {},
     "output_type": "execute_result"
    }
   ],
   "source": [
    "load_mean = df.load_mw.mean()\n",
    "load_std = df.load_mw.std()\n",
    "print(\"Mean: %.2f, St.d: %.2f\" % (load_mean, load_std))\n",
    "\n",
    "def denormalize(normalized_load):\n",
    "    return load_std * normalized_load + load_mean\n",
    "\n",
    "dataset_normalized = (df-df.mean())/df.std()\n",
    "dataset_normalized.head()"
   ]
  },
  {
   "cell_type": "code",
   "execution_count": 9,
   "metadata": {},
   "outputs": [
    {
     "data": {
      "text/html": [
       "<div>\n",
       "<style scoped>\n",
       "    .dataframe tbody tr th:only-of-type {\n",
       "        vertical-align: middle;\n",
       "    }\n",
       "\n",
       "    .dataframe tbody tr th {\n",
       "        vertical-align: top;\n",
       "    }\n",
       "\n",
       "    .dataframe thead th {\n",
       "        text-align: right;\n",
       "    }\n",
       "</style>\n",
       "<table border=\"1\" class=\"dataframe\">\n",
       "  <thead>\n",
       "    <tr style=\"text-align: right;\">\n",
       "      <th></th>\n",
       "      <th>load_mw</th>\n",
       "      <th>temp_c</th>\n",
       "      <th>dayofyear</th>\n",
       "      <th>hour</th>\n",
       "      <th>dayofweek</th>\n",
       "    </tr>\n",
       "    <tr>\n",
       "      <th>datetime</th>\n",
       "      <th></th>\n",
       "      <th></th>\n",
       "      <th></th>\n",
       "      <th></th>\n",
       "      <th></th>\n",
       "    </tr>\n",
       "  </thead>\n",
       "  <tbody>\n",
       "    <tr>\n",
       "      <td>2010-01-01 00:00:00</td>\n",
       "      <td>0.998559</td>\n",
       "      <td>-1.825203</td>\n",
       "      <td>0.00274</td>\n",
       "      <td>0</td>\n",
       "      <td>4</td>\n",
       "    </tr>\n",
       "    <tr>\n",
       "      <td>2010-01-01 01:00:00</td>\n",
       "      <td>0.929292</td>\n",
       "      <td>-1.824565</td>\n",
       "      <td>0.00274</td>\n",
       "      <td>1</td>\n",
       "      <td>4</td>\n",
       "    </tr>\n",
       "    <tr>\n",
       "      <td>2010-01-01 02:00:00</td>\n",
       "      <td>0.877112</td>\n",
       "      <td>-1.843068</td>\n",
       "      <td>0.00274</td>\n",
       "      <td>2</td>\n",
       "      <td>4</td>\n",
       "    </tr>\n",
       "    <tr>\n",
       "      <td>2010-01-01 03:00:00</td>\n",
       "      <td>0.835002</td>\n",
       "      <td>-1.874458</td>\n",
       "      <td>0.00274</td>\n",
       "      <td>3</td>\n",
       "      <td>4</td>\n",
       "    </tr>\n",
       "    <tr>\n",
       "      <td>2010-01-01 04:00:00</td>\n",
       "      <td>0.867958</td>\n",
       "      <td>-1.905338</td>\n",
       "      <td>0.00274</td>\n",
       "      <td>4</td>\n",
       "      <td>4</td>\n",
       "    </tr>\n",
       "  </tbody>\n",
       "</table>\n",
       "</div>"
      ],
      "text/plain": [
       "                      load_mw    temp_c  dayofyear  hour  dayofweek\n",
       "datetime                                                           \n",
       "2010-01-01 00:00:00  0.998559 -1.825203    0.00274     0          4\n",
       "2010-01-01 01:00:00  0.929292 -1.824565    0.00274     1          4\n",
       "2010-01-01 02:00:00  0.877112 -1.843068    0.00274     2          4\n",
       "2010-01-01 03:00:00  0.835002 -1.874458    0.00274     3          4\n",
       "2010-01-01 04:00:00  0.867958 -1.905338    0.00274     4          4"
      ]
     },
     "execution_count": 9,
     "metadata": {},
     "output_type": "execute_result"
    }
   ],
   "source": [
    "d = dataset_normalized.copy()\n",
    "#d = df.copy()\n",
    "d = d.join(pd.Series(df.index.dayofyear.values, index=df.index, name=\"dayofyear\")/365)\n",
    "d = d.join(pd.Series(df.index.hour.values, index=df.index, name=\"hour\"))\n",
    "#d = d.join(pd.DataFrame(pd.get_dummies(df.index.dayofweek).values, index=df.index, columns=weekDays))\n",
    "d = d.join(pd.Series(df.index.dayofweek.values, index=df.index, name=\"dayofweek\"))\n",
    "dataset = d.copy()\n",
    "dataset.head()"
   ]
  },
  {
   "cell_type": "code",
   "execution_count": 10,
   "metadata": {},
   "outputs": [
    {
     "data": {
      "text/plain": [
       "datetime\n",
       "2010-01-01 00:00:00    0.929292\n",
       "2010-01-01 01:00:00    0.877112\n",
       "2010-01-01 02:00:00    0.835002\n",
       "2010-01-01 03:00:00    0.867958\n",
       "2010-01-01 04:00:00    1.008018\n",
       "                         ...   \n",
       "2016-12-31 18:00:00    0.349663\n",
       "2016-12-31 19:00:00    0.261819\n",
       "2016-12-31 20:00:00    0.186690\n",
       "2016-12-31 21:00:00    0.119879\n",
       "2016-12-31 22:00:00    0.087317\n",
       "Name: load_mw, Length: 61457, dtype: float64"
      ]
     },
     "execution_count": 10,
     "metadata": {},
     "output_type": "execute_result"
    }
   ],
   "source": [
    "target_column = \"load_mw\"\n",
    "#X = dataset[:-1].drop(columns=[target_column])\n",
    "X = dataset[:-1]\n",
    "Y = dataset.shift(-1)[target_column][:-1]\n",
    "Y"
   ]
  },
  {
   "cell_type": "code",
   "execution_count": 12,
   "metadata": {},
   "outputs": [
    {
     "name": "stdout",
     "output_type": "stream",
     "text": [
      "(259, 168, 5) (259, 168)\n",
      "<BatchDataset shapes: ((None, 168, 5), (None, 168)), types: (tf.float64, tf.float64)>\n"
     ]
    }
   ],
   "source": [
    "TRAIN_SPLIT = 5*365*24\n",
    "\n",
    "SEQUENCE_LENGTH = 7*24 # days\n",
    "BATCH_SIZE = 1\n",
    "STEP = SEQUENCE_LENGTH\n",
    "\n",
    "INPUT_d = len(X.columns)\n",
    "OUTPUT_d = 1\n",
    "\n",
    "x_train, y_train = multivariate_data(\n",
    "    X.values, Y.values, SEQUENCE_LENGTH, start_index=0, end_index=TRAIN_SPLIT, step=STEP)\n",
    "x_val, y_val = multivariate_data(\n",
    "    X.values, Y.values, SEQUENCE_LENGTH, start_index=TRAIN_SPLIT, end_index=None, step=STEP)\n",
    "\n",
    "train_data = tf.data.Dataset.from_tensor_slices((x_train, y_train)).batch(BATCH_SIZE)\n",
    "val_data = tf.data.Dataset.from_tensor_slices((x_val, y_val)).batch(BATCH_SIZE)\n",
    "\n",
    "print(x_train.shape, y_train.shape)\n",
    "print(train_data)"
   ]
  },
  {
   "cell_type": "code",
   "execution_count": 12,
   "metadata": {},
   "outputs": [],
   "source": [
    "klayers = tf.keras.layers\n",
    "\n",
    "model = tf.keras.models.Sequential()\n",
    "model.add(klayers.LSTM(32, return_sequences=True, stateful=True,\n",
    "                         input_shape=(None, INPUT_d,), \n",
    "                         batch_input_shape=(BATCH_SIZE, None, INPUT_d)))\n",
    "model.add(klayers.LSTM(16, return_sequences=True, stateful=True, activation='relu'))\n",
    "model.add(klayers.Dense(OUTPUT_d))\n",
    "\n",
    "model.compile(optimizer=tf.keras.optimizers.Adam(0.0003), loss='mae')"
   ]
  },
  {
   "cell_type": "code",
   "execution_count": 13,
   "metadata": {},
   "outputs": [],
   "source": [
    "# Define callbacks\n",
    "\n",
    "class ResetStateBetweenEpochs(tf.keras.callbacks.Callback):\n",
    "    def on_epoch_begin(self, batch, logs=None):\n",
    "        self.model.reset_states()\n",
    "\n",
    "class ResetStateBetweenBatches(tf.keras.callbacks.Callback):\n",
    "    def on_train_batch_begin(self, batch, logs=None):\n",
    "        self.model.reset_states()\n",
    "\n",
    "# Stop after 5 epochs with no improvement\n",
    "earlyStopping = tf.keras.callbacks.EarlyStopping(monitor='val_loss', patience=2)"
   ]
  },
  {
   "cell_type": "code",
   "execution_count": 14,
   "metadata": {},
   "outputs": [],
   "source": [
    "#model.load_weights('3 - LSTM statefull')"
   ]
  },
  {
   "cell_type": "code",
   "execution_count": 15,
   "metadata": {
    "scrolled": false
   },
   "outputs": [
    {
     "name": "stdout",
     "output_type": "stream",
     "text": [
      "Epoch 1/2000\n",
      "259/259 [==============================] - 43s 167ms/step - loss: 0.7203 - val_loss: 0.0000e+00\n",
      "Epoch 2/2000\n",
      "259/259 [==============================] - 37s 145ms/step - loss: 0.3502 - val_loss: 0.1999\n",
      "Epoch 3/2000\n",
      "259/259 [==============================] - 36s 138ms/step - loss: 0.2297 - val_loss: 0.2009\n",
      "Epoch 4/2000\n",
      "259/259 [==============================] - 35s 137ms/step - loss: 0.1970 - val_loss: 0.1777\n",
      "Epoch 5/2000\n",
      "259/259 [==============================] - 35s 134ms/step - loss: 0.1614 - val_loss: 0.1504\n",
      "Epoch 6/2000\n",
      "259/259 [==============================] - 33s 127ms/step - loss: 0.1705 - val_loss: 0.1713\n",
      "Epoch 7/2000\n",
      "259/259 [==============================] - 35s 136ms/step - loss: 0.1491 - val_loss: 0.1466\n",
      "Epoch 8/2000\n",
      "259/259 [==============================] - 37s 143ms/step - loss: 0.1372 - val_loss: 0.2308\n",
      "Epoch 9/2000\n",
      "259/259 [==============================] - 36s 141ms/step - loss: 0.1780 - val_loss: 0.1808\n"
     ]
    }
   ],
   "source": [
    "history = model.fit(\n",
    "    train_data, \n",
    "    validation_data=val_data, \n",
    "    epochs=2000, \n",
    "    callbacks=[ResetStateBetweenEpochs(), earlyStopping]\n",
    ")"
   ]
  },
  {
   "cell_type": "code",
   "execution_count": 16,
   "metadata": {},
   "outputs": [
    {
     "data": {
      "image/png": "[encoded data removed]",
      "text/plain": [
       "<Figure size 432x288 with 1 Axes>"
      ]
     },
     "metadata": {
      "image/png": {
       "height": 265,
       "width": 368
      },
      "needs_background": "light"
     },
     "output_type": "display_data"
    }
   ],
   "source": [
    "plot_train_history(history, 'Training and validation loss')"
   ]
  },
  {
   "cell_type": "code",
   "execution_count": 17,
   "metadata": {},
   "outputs": [],
   "source": [
    "model.save_weights('3 - LSTM statefull')"
   ]
  },
  {
   "cell_type": "code",
   "execution_count": 18,
   "metadata": {},
   "outputs": [],
   "source": [
    "X_val = X[TRAIN_SPLIT:]\n",
    "Y_val = Y[TRAIN_SPLIT:]"
   ]
  },
  {
   "cell_type": "code",
   "execution_count": 19,
   "metadata": {},
   "outputs": [
    {
     "data": {
      "text/plain": [
       "array([17895.74403133, 17943.00693853])"
      ]
     },
     "execution_count": 19,
     "metadata": {},
     "output_type": "execute_result"
    }
   ],
   "source": [
    "def predict(model, X, y_column_index, start_index, lookback_ts=None, predicted_ts=None):\n",
    "    if not lookback_ts:\n",
    "        lookback_ts = start_index\n",
    "    if not predicted_ts:\n",
    "        predicted_ts = len(X) - start_index\n",
    "    \n",
    "    n_columns = len(X.columns)\n",
    "    \n",
    "    model.reset_states()\n",
    "    #y_hat = np.zeros(start_index + predicted_ts)\n",
    "    y_hat = np.zeros(predicted_ts)\n",
    "    \n",
    "    X_lookback = X.iloc[start_index-lookback_ts:start_index].values\n",
    "    Y_lookback = model.predict(X_lookback.reshape((1, lookback_ts, n_columns))).flatten()\n",
    "    \n",
    "    #y_hat[start_index-lookback_ts:start_index] = Y_lookback\n",
    "    y = Y_lookback[-1]\n",
    "    \n",
    "    for i in range(predicted_ts):\n",
    "        x = np.array(X.iloc[start_index+i].values)\n",
    "        x[y_column_index] = y\n",
    "        y = model.predict(x.reshape(1, 1, n_columns))\n",
    "        #y_hat[start_index+i] = y\n",
    "        y_hat[i] = y\n",
    "                       \n",
    "    return y_hat\n",
    "    \n",
    "denormalize(predict(model, X_val, y_column_index=0, start_index=7*24, predicted_ts=2))"
   ]
  },
  {
   "cell_type": "code",
   "execution_count": 20,
   "metadata": {
    "scrolled": false
   },
   "outputs": [
    {
     "data": {
      "text/html": [
       "<div>\n",
       "<style scoped>\n",
       "    .dataframe tbody tr th:only-of-type {\n",
       "        vertical-align: middle;\n",
       "    }\n",
       "\n",
       "    .dataframe tbody tr th {\n",
       "        vertical-align: top;\n",
       "    }\n",
       "\n",
       "    .dataframe thead th {\n",
       "        text-align: right;\n",
       "    }\n",
       "</style>\n",
       "<table border=\"1\" class=\"dataframe\">\n",
       "  <thead>\n",
       "    <tr style=\"text-align: right;\">\n",
       "      <th></th>\n",
       "      <th>prediction_length</th>\n",
       "      <th>actual</th>\n",
       "      <th>predicted</th>\n",
       "      <th>error</th>\n",
       "      <th>start_datetime</th>\n",
       "      <th>prediction_datetime</th>\n",
       "    </tr>\n",
       "  </thead>\n",
       "  <tbody>\n",
       "    <tr>\n",
       "      <td>0</td>\n",
       "      <td>0</td>\n",
       "      <td>17961.0</td>\n",
       "      <td>17895.744031</td>\n",
       "      <td>65.255969</td>\n",
       "      <td>2015-01-04 10:00:00</td>\n",
       "      <td>2015-01-04 10:00:00</td>\n",
       "    </tr>\n",
       "    <tr>\n",
       "      <td>1</td>\n",
       "      <td>1</td>\n",
       "      <td>17818.0</td>\n",
       "      <td>17943.006939</td>\n",
       "      <td>125.006939</td>\n",
       "      <td>2015-01-04 10:00:00</td>\n",
       "      <td>2015-01-04 11:00:00</td>\n",
       "    </tr>\n",
       "    <tr>\n",
       "      <td>2</td>\n",
       "      <td>0</td>\n",
       "      <td>17818.0</td>\n",
       "      <td>17977.830614</td>\n",
       "      <td>159.830614</td>\n",
       "      <td>2015-01-04 11:00:00</td>\n",
       "      <td>2015-01-04 11:00:00</td>\n",
       "    </tr>\n",
       "    <tr>\n",
       "      <td>3</td>\n",
       "      <td>1</td>\n",
       "      <td>18037.0</td>\n",
       "      <td>18011.554953</td>\n",
       "      <td>25.445047</td>\n",
       "      <td>2015-01-04 11:00:00</td>\n",
       "      <td>2015-01-04 12:00:00</td>\n",
       "    </tr>\n",
       "    <tr>\n",
       "      <td>4</td>\n",
       "      <td>0</td>\n",
       "      <td>18037.0</td>\n",
       "      <td>18014.226725</td>\n",
       "      <td>22.773275</td>\n",
       "      <td>2015-01-04 12:00:00</td>\n",
       "      <td>2015-01-04 12:00:00</td>\n",
       "    </tr>\n",
       "    <tr>\n",
       "      <td>5</td>\n",
       "      <td>1</td>\n",
       "      <td>18561.0</td>\n",
       "      <td>18038.648108</td>\n",
       "      <td>522.351892</td>\n",
       "      <td>2015-01-04 12:00:00</td>\n",
       "      <td>2015-01-04 13:00:00</td>\n",
       "    </tr>\n",
       "    <tr>\n",
       "      <td>6</td>\n",
       "      <td>0</td>\n",
       "      <td>18561.0</td>\n",
       "      <td>18023.279263</td>\n",
       "      <td>537.720737</td>\n",
       "      <td>2015-01-04 13:00:00</td>\n",
       "      <td>2015-01-04 13:00:00</td>\n",
       "    </tr>\n",
       "    <tr>\n",
       "      <td>7</td>\n",
       "      <td>1</td>\n",
       "      <td>19142.0</td>\n",
       "      <td>18032.437672</td>\n",
       "      <td>1109.562328</td>\n",
       "      <td>2015-01-04 13:00:00</td>\n",
       "      <td>2015-01-04 14:00:00</td>\n",
       "    </tr>\n",
       "    <tr>\n",
       "      <td>8</td>\n",
       "      <td>0</td>\n",
       "      <td>19142.0</td>\n",
       "      <td>18036.070095</td>\n",
       "      <td>1105.929905</td>\n",
       "      <td>2015-01-04 14:00:00</td>\n",
       "      <td>2015-01-04 14:00:00</td>\n",
       "    </tr>\n",
       "    <tr>\n",
       "      <td>9</td>\n",
       "      <td>1</td>\n",
       "      <td>19289.0</td>\n",
       "      <td>18018.502186</td>\n",
       "      <td>1270.497814</td>\n",
       "      <td>2015-01-04 14:00:00</td>\n",
       "      <td>2015-01-04 15:00:00</td>\n",
       "    </tr>\n",
       "    <tr>\n",
       "      <td>10</td>\n",
       "      <td>0</td>\n",
       "      <td>19289.0</td>\n",
       "      <td>18064.970867</td>\n",
       "      <td>1224.029133</td>\n",
       "      <td>2015-01-04 15:00:00</td>\n",
       "      <td>2015-01-04 15:00:00</td>\n",
       "    </tr>\n",
       "    <tr>\n",
       "      <td>11</td>\n",
       "      <td>1</td>\n",
       "      <td>19142.0</td>\n",
       "      <td>18018.179495</td>\n",
       "      <td>1123.820505</td>\n",
       "      <td>2015-01-04 15:00:00</td>\n",
       "      <td>2015-01-04 16:00:00</td>\n",
       "    </tr>\n",
       "    <tr>\n",
       "      <td>12</td>\n",
       "      <td>0</td>\n",
       "      <td>19142.0</td>\n",
       "      <td>18106.681222</td>\n",
       "      <td>1035.318778</td>\n",
       "      <td>2015-01-04 16:00:00</td>\n",
       "      <td>2015-01-04 16:00:00</td>\n",
       "    </tr>\n",
       "    <tr>\n",
       "      <td>13</td>\n",
       "      <td>1</td>\n",
       "      <td>19088.0</td>\n",
       "      <td>18026.576103</td>\n",
       "      <td>1061.423897</td>\n",
       "      <td>2015-01-04 16:00:00</td>\n",
       "      <td>2015-01-04 17:00:00</td>\n",
       "    </tr>\n",
       "    <tr>\n",
       "      <td>14</td>\n",
       "      <td>0</td>\n",
       "      <td>19088.0</td>\n",
       "      <td>18117.187433</td>\n",
       "      <td>970.812567</td>\n",
       "      <td>2015-01-04 17:00:00</td>\n",
       "      <td>2015-01-04 17:00:00</td>\n",
       "    </tr>\n",
       "    <tr>\n",
       "      <td>15</td>\n",
       "      <td>1</td>\n",
       "      <td>18740.0</td>\n",
       "      <td>17980.120314</td>\n",
       "      <td>759.879686</td>\n",
       "      <td>2015-01-04 17:00:00</td>\n",
       "      <td>2015-01-04 18:00:00</td>\n",
       "    </tr>\n",
       "    <tr>\n",
       "      <td>16</td>\n",
       "      <td>0</td>\n",
       "      <td>18740.0</td>\n",
       "      <td>18057.048529</td>\n",
       "      <td>682.951471</td>\n",
       "      <td>2015-01-04 18:00:00</td>\n",
       "      <td>2015-01-04 18:00:00</td>\n",
       "    </tr>\n",
       "    <tr>\n",
       "      <td>17</td>\n",
       "      <td>1</td>\n",
       "      <td>18431.0</td>\n",
       "      <td>17862.990891</td>\n",
       "      <td>568.009109</td>\n",
       "      <td>2015-01-04 18:00:00</td>\n",
       "      <td>2015-01-04 19:00:00</td>\n",
       "    </tr>\n",
       "    <tr>\n",
       "      <td>18</td>\n",
       "      <td>0</td>\n",
       "      <td>18431.0</td>\n",
       "      <td>17935.215474</td>\n",
       "      <td>495.784526</td>\n",
       "      <td>2015-01-04 19:00:00</td>\n",
       "      <td>2015-01-04 19:00:00</td>\n",
       "    </tr>\n",
       "    <tr>\n",
       "      <td>19</td>\n",
       "      <td>1</td>\n",
       "      <td>17958.0</td>\n",
       "      <td>17686.780100</td>\n",
       "      <td>271.219900</td>\n",
       "      <td>2015-01-04 19:00:00</td>\n",
       "      <td>2015-01-04 20:00:00</td>\n",
       "    </tr>\n",
       "  </tbody>\n",
       "</table>\n",
       "</div>"
      ],
      "text/plain": [
       "   prediction_length   actual     predicted        error      start_datetime  \\\n",
       "0                  0  17961.0  17895.744031    65.255969 2015-01-04 10:00:00   \n",
       "1                  1  17818.0  17943.006939   125.006939 2015-01-04 10:00:00   \n",
       "2                  0  17818.0  17977.830614   159.830614 2015-01-04 11:00:00   \n",
       "3                  1  18037.0  18011.554953    25.445047 2015-01-04 11:00:00   \n",
       "4                  0  18037.0  18014.226725    22.773275 2015-01-04 12:00:00   \n",
       "5                  1  18561.0  18038.648108   522.351892 2015-01-04 12:00:00   \n",
       "6                  0  18561.0  18023.279263   537.720737 2015-01-04 13:00:00   \n",
       "7                  1  19142.0  18032.437672  1109.562328 2015-01-04 13:00:00   \n",
       "8                  0  19142.0  18036.070095  1105.929905 2015-01-04 14:00:00   \n",
       "9                  1  19289.0  18018.502186  1270.497814 2015-01-04 14:00:00   \n",
       "10                 0  19289.0  18064.970867  1224.029133 2015-01-04 15:00:00   \n",
       "11                 1  19142.0  18018.179495  1123.820505 2015-01-04 15:00:00   \n",
       "12                 0  19142.0  18106.681222  1035.318778 2015-01-04 16:00:00   \n",
       "13                 1  19088.0  18026.576103  1061.423897 2015-01-04 16:00:00   \n",
       "14                 0  19088.0  18117.187433   970.812567 2015-01-04 17:00:00   \n",
       "15                 1  18740.0  17980.120314   759.879686 2015-01-04 17:00:00   \n",
       "16                 0  18740.0  18057.048529   682.951471 2015-01-04 18:00:00   \n",
       "17                 1  18431.0  17862.990891   568.009109 2015-01-04 18:00:00   \n",
       "18                 0  18431.0  17935.215474   495.784526 2015-01-04 19:00:00   \n",
       "19                 1  17958.0  17686.780100   271.219900 2015-01-04 19:00:00   \n",
       "\n",
       "   prediction_datetime  \n",
       "0  2015-01-04 10:00:00  \n",
       "1  2015-01-04 11:00:00  \n",
       "2  2015-01-04 11:00:00  \n",
       "3  2015-01-04 12:00:00  \n",
       "4  2015-01-04 12:00:00  \n",
       "5  2015-01-04 13:00:00  \n",
       "6  2015-01-04 13:00:00  \n",
       "7  2015-01-04 14:00:00  \n",
       "8  2015-01-04 14:00:00  \n",
       "9  2015-01-04 15:00:00  \n",
       "10 2015-01-04 15:00:00  \n",
       "11 2015-01-04 16:00:00  \n",
       "12 2015-01-04 16:00:00  \n",
       "13 2015-01-04 17:00:00  \n",
       "14 2015-01-04 17:00:00  \n",
       "15 2015-01-04 18:00:00  \n",
       "16 2015-01-04 18:00:00  \n",
       "17 2015-01-04 19:00:00  \n",
       "18 2015-01-04 19:00:00  \n",
       "19 2015-01-04 20:00:00  "
      ]
     },
     "execution_count": 20,
     "metadata": {},
     "output_type": "execute_result"
    }
   ],
   "source": [
    "def prediction_series(X_val, max_length, n_lookbacks=7*24, n_predictions=24):\n",
    "    predictions = pd.DataFrame(columns=[\"prediction_length\", \"actual\", \"predicted\", \"error\", \"start_datetime\", \"prediction_datetime\"])\n",
    "    rows = len(X_val)\n",
    "    \n",
    "    for i in range(n_lookbacks, min(n_lookbacks+max_length, rows)):\n",
    "        predicted_ts = min(rows-i, n_predictions)\n",
    "\n",
    "        Y_hat = denormalize(predict(model, X_val, y_column_index=0, start_index=i, \n",
    "                                    lookback_ts=n_lookbacks, predicted_ts=predicted_ts))\n",
    "\n",
    "        prediction_length = list(range(predicted_ts))\n",
    "        Y_ = denormalize(Y_val[i:i+predicted_ts])\n",
    "        errors = abs(Y_hat - Y_)\n",
    "        start_datetimes = [Y_val.index[i]]*predicted_ts\n",
    "        prediction_datetimes = Y_.index\n",
    "\n",
    "        predictions = predictions.append(pd.DataFrame(\n",
    "            zip(prediction_length, Y_.values, Y_hat, errors, start_datetimes, prediction_datetimes),\n",
    "            columns=[\"prediction_length\", \"actual\", \"predicted\", \"error\", \"start_datetime\", \"prediction_datetime\"]\n",
    "        ), ignore_index=True)\n",
    "\n",
    "\n",
    "    return predictions\n",
    "\n",
    "prediction_series(X_val, max_length=10, n_lookbacks=7*24, n_predictions=2)"
   ]
  },
  {
   "cell_type": "code",
   "execution_count": null,
   "metadata": {},
   "outputs": [],
   "source": [
    "d = prediction_series(X_val, max_length=100000, n_lookbacks=7*24, n_predictions=1)"
   ]
  },
  {
   "cell_type": "code",
   "execution_count": null,
   "metadata": {},
   "outputs": [],
   "source": [
    "f = d[\"Actual\", \"Predicted\"]\n",
    "f.index = pd.to_datetime(d.start_datetime)"
   ]
  },
  {
   "cell_type": "code",
   "execution_count": null,
   "metadata": {},
   "outputs": [],
   "source": [
    "f.plot()"
   ]
  },
  {
   "cell_type": "code",
   "execution_count": null,
   "metadata": {},
   "outputs": [],
   "source": [
    "mea_normalized = history.history['val_loss'][-1] # 0.1586\n",
    "mea_denorm = denormalize(mea_normalized) - load_mean\n",
    "print(\"MAE last epoch: %.2f MW\" % (mea_denorm))"
   ]
  },
  {
   "cell_type": "code",
   "execution_count": null,
   "metadata": {},
   "outputs": [],
   "source": []
  }
 ],
 "metadata": {
  "kernelspec": {
   "display_name": "Python 3",
   "language": "python",
   "name": "python3"
  },
  "language_info": {
   "codemirror_mode": {
    "name": "ipython",
    "version": 3
   },
   "file_extension": ".py",
   "mimetype": "text/x-python",
   "name": "python",
   "nbconvert_exporter": "python",
   "pygments_lexer": "ipython3",
   "version": "3.7.4"
  }
 },
 "nbformat": 4,
 "nbformat_minor": 2
}
